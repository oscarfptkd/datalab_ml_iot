{
 "cells": [
  {
   "cell_type": "markdown",
   "metadata": {},
   "source": [
    "# Computer Vision for IOT (WIP)\n",
    "\n",
    "This notebook is part of [*Practical Data Science for IoT*](https://github.com/pablodecm/datalab_ml_iot) tutorial by Pablo de Castro"
   ]
  },
  {
   "cell_type": "markdown",
   "metadata": {},
   "source": [
    "For this part, an explanation of what are the approaches of using Computer Vision for IOT will be discussed.\n",
    "\n",
    "In addition, a basic demo of some of the tools using pre-trained models could be carried out (e.g. OpenCV, OpenVino or ONNX)."
   ]
  },
  {
   "cell_type": "markdown",
   "metadata": {},
   "source": [
    "## References\n",
    "\n",
    "For a very accesible primer to Computer Vision and some use cases I recommend some of the blog post of PyImageSearch:\n",
    "\n",
    "- [1] [PyImageSearch blog and materials](https://www.pyimagesearch.com/blog/) by Adrien Rosebrok"
   ]
  }
 ],
 "metadata": {
  "kernelspec": {
   "display_name": "Python 3",
   "language": "python",
   "name": "python3"
  },
  "language_info": {
   "codemirror_mode": {
    "name": "ipython",
    "version": 3
   },
   "file_extension": ".py",
   "mimetype": "text/x-python",
   "name": "python",
   "nbconvert_exporter": "python",
   "pygments_lexer": "ipython3",
   "version": "3.6.13"
  }
 },
 "nbformat": 4,
 "nbformat_minor": 2
}
