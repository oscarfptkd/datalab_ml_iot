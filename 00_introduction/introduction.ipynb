{
 "cells": [
  {
   "cell_type": "code",
   "execution_count": null,
   "metadata": {},
   "outputs": [],
   "source": []
  },
  {
   "cell_type": "code",
   "execution_count": null,
   "metadata": {},
   "outputs": [],
   "source": []
  },
  {
   "cell_type": "code",
   "execution_count": null,
   "metadata": {},
   "outputs": [],
   "source": []
  },
  {
   "cell_type": "markdown",
   "metadata": {
    "slideshow": {
     "slide_type": "slide"
    }
   },
   "source": [
    " <div style=\"text-align:center\">\n",
    "\n",
    "# Data Science for IoT\n",
    "<hr style=\"height:4px\">\n",
    "\n",
    "<b/> \n",
    "## 27-28 and 30 March 2020\n",
    "## Data Science Master (UC-UIMP-CSIC)\n",
    "</div>\n",
    "<b/> \n",
    "\n",
    "<br>\n",
    "\n",
    "## *Pablo de Castro (pablodecm@gmail.com)*\n",
    "\n",
    "<i class=\"fa fa-twitter\"></i> [@pablodecm](https://twitter.com/pablodecm)\n",
    "&nbsp; <i class=\"fa fa-linkedin\"></i> [pablodecm](https://www.linkedin.com/in/pablodecm)\n",
    "&nbsp; <i class=\"fa fa-github\"></i> [pablodecm](https://github.com/pablodecm)\n",
    "&nbsp; [pablodecm.com](https://pablodecm.com)\n"
   ]
  },
  {
   "cell_type": "markdown",
   "metadata": {
    "slideshow": {
     "slide_type": "slide"
    }
   },
   "source": [
    " <div style=\"text-align:center\">\n",
    "\n",
    "## Welcome to this DataLab\n",
    "    \n",
    "</div>\n",
    "\n",
    "<div align=\"center\">\n",
    "<img width=\"35%\" src=\"images/welcome_gif.gif\"/>\n",
    "</div>\n"
   ]
  },
  {
   "cell_type": "markdown",
   "metadata": {
    "cell_style": "center",
    "slideshow": {
     "slide_type": "slide"
    }
   },
   "source": [
    "\n",
    "<img style=\"float:right;border-radius: 50%\" width=\"20%\" src=\"images/instructor_photo.jpg\"/>\n",
    "<div>\n",
    "    \n",
    "## Instructor Bio\n",
    "\n",
    "*I am Pablo and I enjoy working with data*. 🙂\n",
    "\n",
    "*Bachelor's and Master's degree (in Physics) @ UNICAN*.\n",
    "\n",
    "*Physics PhD at the University of Padua*, focused on:\n",
    "  - Development of new ML techniques for the LHC.\n",
    "  - Improving statistical analysis at scientific experiments.\n",
    "\n",
    "*Currenly working as a Data Scientist at [Treelogic](https://www.treelogic.com/en/index.html)*.\n",
    "   - Working on R&D projects and products that heavily rely on **Machine Learning** and **Computer Vision**.\n",
    "</div>\n"
   ]
  },
  {
   "cell_type": "markdown",
   "metadata": {
    "slideshow": {
     "slide_type": "subslide"
    }
   },
   "source": [
    "## ... and now it is your turn"
   ]
  },
  {
   "cell_type": "markdown",
   "metadata": {
    "slideshow": {
     "slide_type": "slide"
    }
   },
   "source": [
    "## Objectives\n",
    "\n",
    "Understand some of the roles of data science for Internet of Things (IoT) scenarios.\n",
    "\n",
    "Explore using practical examples with several IoT data scenarios.\n",
    "\n",
    "Highlight the main data challenges in real-word IoT applications.\n"
   ]
  },
  {
   "cell_type": "markdown",
   "metadata": {
    "slideshow": {
     "slide_type": "subslide"
    }
   },
   "source": [
    "## Limitations\n",
    "\n",
    "The number of possible applications of data science in IoT is very large (and growing).\n",
    "  - Here we we will only cover a small subset\n",
    "\n",
    "Will assume familiarity with data science and ML techniques.\n",
    "  - Will be focussing more in applications\n",
    " "
   ]
  },
  {
   "cell_type": "markdown",
   "metadata": {
    "slideshow": {
     "slide_type": "slide"
    }
   },
   "source": [
    "##  Materials and Communication\n",
    "\n",
    "All the material in this tutorial is available online at the following\n",
    "  GitHub repository:\n",
    "\n",
    "<p style=\"text-align: center; font-size: 150%\">\n",
    "<a href=\"https://github.com/pablodecm/datalab_ml_iot\">https://github.com/pablodecm/datalab_ml_iot</a>\n",
    "</p>\n",
    "\n",
    "For communication regarding this class or related matters please use this\n",
    "Gitter chat room (is public by default):\n",
    "\n",
    "<p style=\"text-align: center; font-size: 150%\">\n",
    "<a href=\"https://gitter.im/datalab_ml_iot/master_2020_unican\">https://gitter.im/datalab_ml_iot/master_2020_unican</a>\n",
    "</p>\n"
   ]
  },
  {
   "cell_type": "markdown",
   "metadata": {
    "slideshow": {
     "slide_type": "slide"
    }
   },
   "source": [
    "## Working with Jupyter Notebooks\n",
    "\n",
    "For most of the use cases, we will be working with Jupyter Notebooks.\n",
    "\n",
    "You can optionally use [Google Colaboratory](https://colab.research.google.com/) to simplify the environment setup and ensure that everyone has *powerful enough computing resources*."
   ]
  },
  {
   "cell_type": "markdown",
   "metadata": {
    "slideshow": {
     "slide_type": "subslide"
    }
   },
   "source": [
    "## Other Requirements\n",
    "\n",
    "For the tomorrow onwards we might be needing Docker, Docker Compose and a good development editor (I recommend VSCode). Please follow the online instructions to install them in your machine."
   ]
  },
  {
   "cell_type": "markdown",
   "metadata": {
    "slideshow": {
     "slide_type": "subslide"
    }
   },
   "source": [
    "## Jupyter and Google Colaboratory Basics\n",
    "\n",
    "In case you are not familiar, you can find a tutorial and introduction at:\n",
    "\n",
    "- https://colab.research.google.com/notebooks/welcome.ipynb\n",
    "\n",
    "I recommend logging in with you Google account and copying the notebook you are working\n",
    "on if you want to save your results.\n",
    "\n",
    "<p>\n",
    "For example, load (and then save using File->Save a Copy as) this notebook by clicking\n",
    "on the following badge:\n",
    "<a href=\"https://colab.research.google.com/github/pablodecm/datalab_ml_iot/blob/master/00_introduction/introduction.ipynb\">\n",
    "  <img src=\"https://colab.research.google.com/assets/colab-badge.svg\" alt=\"Open In Colab\" style=\"display: inline\"/>\n",
    "</a>\n",
    "</p>"
   ]
  },
  {
   "cell_type": "code",
   "execution_count": null,
   "metadata": {
    "slideshow": {
     "slide_type": "subslide"
    }
   },
   "outputs": [],
   "source": [
    "# we will be using Python3 extensively\n",
    "\n",
    "# remember print is a function (with parenthesis)\n",
    "print(\"Hello World!\") "
   ]
  },
  {
   "cell_type": "code",
   "execution_count": null,
   "metadata": {
    "slideshow": {
     "slide_type": "subslide"
    }
   },
   "outputs": [],
   "source": [
    "# also linux commands within the notebook\n",
    "\n",
    "# e.g. this check the GPU model and memory\n",
    "!nvidia-smi\n",
    "# this the CPU\n",
    "!lscpu\n",
    "# this the memory\n",
    "!cat /proc/meminfo\n",
    "# this the disk\n",
    "!df -h\n",
    "\n",
    "# but this virtual machine will be turn-off and erased\n",
    "# in about 12 hours, so save your notebooks to Google Drive"
   ]
  },
  {
   "cell_type": "markdown",
   "metadata": {
    "slideshow": {
     "slide_type": "slide"
    }
   },
   "source": [
    "## Motivation for Data Science in IoT\n",
    "\n",
    "<div align=\"center\">\n",
    "<img width=\"35%\" src=\"images/iot_hype.png\"/>\n",
    "</div>\n",
    "\n",
    "The amount and diversity of data generated by IoT devices grows every year,\n",
    "yet complex applications often require:\n",
    "   - understanding and value extraction from explorative data analysis and visualization.\n",
    "   - prediction and modelling capabilities by using machine learning techniques.\n",
    "\n",
    "*Image source*: [towardsdatascience.com](https://towardsdatascience.com/iot-machine-learning-is-going-to-change-the-world-7c4e0cd7ac32)\n"
   ]
  },
  {
   "cell_type": "markdown",
   "metadata": {
    "slideshow": {
     "slide_type": "slide"
    }
   },
   "source": [
    "## Practical Use Cases Overview\n",
    "\n",
    "We will be covering a few applications of Data Science\n",
    "for the Internet of Things, in particular:\n",
    "\n",
    "1. **Predictive Maintenance** (*today*): predict when an turbofan plane engine will break based on\n",
    "    reading of the integrated sensors so costly maintenance tasks can be scheduled smartly. <a href=\"https://colab.research.google.com/github/pablodecm/datalab_ml_iot/blob/master/01_predictive_mainteinance/predictive_maintenance.ipynb\">\n",
    "  <img src=\"https://colab.research.google.com/assets/colab-badge.svg\" alt=\"Open In Colab\" style=\"display: inline\"/>\n",
    "</a>\n",
    "2. **Trip Duration Prediction** (*today*): based real-world Taxi data from New York city in 2016, predict\n",
    "   the duration of a taxi trip based on the pickup/drop-off coordinates, taxi information and\n",
    "   additional datasets. <a href=\"https://colab.research.google.com/github/pablodecm/datalab_ml_iot/blob/master/02_trip_duration_prediction/trip_duration_prediction.ipynb\">\n",
    "  <img src=\"https://colab.research.google.com/assets/colab-badge.svg\" alt=\"Open In Colab\" style=\"display: inline\"/>\n",
    "</a>\n",
    "    \n",
    "3. **IOT for Pandemics** (today and tomorrow): brainstorm the viability and data some IOT-based solutions or systems that could help us with the current and future pandemics. Example of contact tracing using your own Google Location history.\n",
    "\n",
    "4. **Internet of (Magic) Wands** (*tomorrow and on Monday*): using our smartphone as a magic wand, we will collect data of labelled magic spells and then train a spell recognition model based on our own sensor data. <a href=\"https://colab.research.google.com/github/pablodecm/datalab_ml_iot/blob/master/03_internet_of_wands/internet_of_wands.ipynb\">\n",
    "  <img src=\"https://colab.research.google.com/assets/colab-badge.svg\" alt=\"Open In Colab\" style=\"display: inline\"/>\n",
    "</a>\n",
    "5. **Computer Vision for IOT** (*maybe on Monday*): we will use a pre-trained state-of-the-art\n",
    "   computer vision models to identify stuff in video camera footage. <a href=\"https://colab.research.google.com/github/pablodecm/datalab_ml_iot/blob/master/004_camera_object_recognition/camera_object_recognition.ipynb\">\n",
    "  <img src=\"https://colab.research.google.com/assets/colab-badge.svg\" alt=\"Open In Colab\" style=\"display: inline\"/>\n",
    "</a>\n",
    " "
   ]
  },
  {
   "cell_type": "markdown",
   "metadata": {
    "slideshow": {
     "slide_type": "slide"
    }
   },
   "source": [
    "## Let's get started!\n",
    "\n",
    "By opening the notebook for the first part (i.e. Predictive Maintenance):\n",
    " <a href=\"https://colab.research.google.com/github/pablodecm/datalab_ml_iot/blob/master/01_predictive_mainteinance/predictive_maintenance.ipynb\">\n",
    "  <img src=\"https://colab.research.google.com/assets/colab-badge.svg\" width=\"15%\" alt=\"Open In Colab\"/>\n",
    "</a>"
   ]
  }
 ],
 "metadata": {
  "celltoolbar": "Slideshow",
  "kernelspec": {
   "display_name": "Python 3",
   "language": "python",
   "name": "python3"
  },
  "language_info": {
   "codemirror_mode": {
    "name": "ipython",
    "version": 3
   },
   "file_extension": ".py",
   "mimetype": "text/x-python",
   "name": "python",
   "nbconvert_exporter": "python",
   "pygments_lexer": "ipython3",
   "version": "3.6.10"
  }
 },
 "nbformat": 4,
 "nbformat_minor": 2
}
