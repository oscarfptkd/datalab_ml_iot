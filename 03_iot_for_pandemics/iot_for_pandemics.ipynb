{
 "cells": [
  {
   "cell_type": "markdown",
   "metadata": {
    "slideshow": {
     "slide_type": "slide"
    }
   },
   "source": [
    "# IOT for Pandemics\n",
    "\n",
    "This notebook is part of [*Practical Data Science for IOT*](https://github.com/pablodecm/datalab_ml_iot) tutorial by Pablo de Castro"
   ]
  },
  {
   "cell_type": "code",
   "execution_count": null,
   "metadata": {},
   "outputs": [],
   "source": [
    "ls images/"
   ]
  },
  {
   "cell_type": "markdown",
   "metadata": {
    "slideshow": {
     "slide_type": "slide"
    }
   },
   "source": [
    "## What can we do? (in addition to staying at home)\n",
    "\n",
    "Given the current COVID19 pandemic that is currently undergoing (this was initially\n",
    "written the 25th of March in Spain), it is worth thinking about possible technological\n",
    "solutions that could help improve or manage this crisis or future pandemics.\n",
    "\n",
    "<br>\n",
    "\n",
    "<div align=\"center\">\n",
    "  <img src=\"images/data_science_diagram.png\" width=\"40%\">\n",
    "</div>"
   ]
  },
  {
   "cell_type": "markdown",
   "metadata": {
    "slideshow": {
     "slide_type": "slide"
    }
   },
   "source": [
    "\n",
    "## Brainstorming Ideas\n",
    "\n",
    "Let's think about different solutions that could help with the crisis that use IOT technologies and data science, by iterating following this structure:\n",
    "\n"
   ]
  },
  {
   "cell_type": "markdown",
   "metadata": {
    "slideshow": {
     "slide_type": "fragment"
    }
   },
   "source": [
    "### WHY\n",
    "\n",
    "The actual problem or challenge that we are trying to solve. <br>\n",
    "Described in specific terms (not in general terms).  <br>\n",
    "Could be sub-problems of a larger problem."
   ]
  },
  {
   "cell_type": "markdown",
   "metadata": {
    "slideshow": {
     "slide_type": "fragment"
    }
   },
   "source": [
    "### HOW\n",
    "\n",
    "Which technologies could be used to address the WHY. <br>\n",
    "How will these technologies interact.  <br>\n",
    "Sketch the system components and how they play together."
   ]
  },
  {
   "cell_type": "markdown",
   "metadata": {
    "slideshow": {
     "slide_type": "fragment"
    }
   },
   "source": [
    "### WHAT\n",
    "\n",
    "Name or describe the solution. <br>\n",
    "Could it really address the WHY? <br>\n",
    "If yes, great! **Get feedback and try to build a MVP!** <br>\n",
    "If not, do not worry, keep iterating!"
   ]
  },
  {
   "cell_type": "markdown",
   "metadata": {
    "slideshow": {
     "slide_type": "slide"
    }
   },
   "source": [
    "## Be bold!\n",
    "\n",
    "**Homework**: let's think individually or in groups about technological solutions of Data Science and IOT that could help with the COVID19 crisis following the previous structure.\n",
    "\n",
    "\n",
    "\n",
    "Send your ideas with this Google Form and we will discuss them tomorrow in class form:\n",
    "\n",
    "https://forms.gle/tZJh8hE3vLdwyyQW8"
   ]
  }
 ],
 "metadata": {
  "celltoolbar": "Slideshow",
  "kernelspec": {
   "display_name": "Python 3",
   "language": "python",
   "name": "python3"
  },
  "language_info": {
   "codemirror_mode": {
    "name": "ipython",
    "version": 3
   },
   "file_extension": ".py",
   "mimetype": "text/x-python",
   "name": "python",
   "nbconvert_exporter": "python",
   "pygments_lexer": "ipython3",
   "version": "3.6.10"
  },
  "rise": {
   "theme": "black"
  }
 },
 "nbformat": 4,
 "nbformat_minor": 4
}
