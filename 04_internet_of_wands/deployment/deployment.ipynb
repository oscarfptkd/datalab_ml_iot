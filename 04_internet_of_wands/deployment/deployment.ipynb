{
 "cells": [
  {
   "attachments": {},
   "cell_type": "markdown",
   "metadata": {},
   "source": [
    "# Model Deployment\n",
    "\n",
    "\n",
    "This notebook will focus on how we can deploy a model to production, in fact we will do a deployment of the model trained in [this notebook](../internet_of_wands.ipynb).\n"
   ]
  },
  {
   "attachments": {},
   "cell_type": "markdown",
   "metadata": {},
   "source": [
    "## Deployment Types\n",
    "\n",
    "There are different ways to deploy a model to production, mainly:\n",
    "- Server API Endpoint (real-time): most common/generic solution, the prediction is carried out in a server -> very flexible, model can be only in server can also have reduced latencies in some cases\n",
    "- Batch inference: at regular times or triggered manually the data is evaluated for a set of data -> useful for analysis but not suitable for real-time applications\n",
    "- Edge deployment: the inference is carried out directly at the device (phone, computer, car, browser, etc) -> heavily depends on the device"
   ]
  },
  {
   "attachments": {},
   "cell_type": "markdown",
   "metadata": {},
   "source": [
    "## Dependencies\n",
    "\n",
    "We will be using [FastAPI](https://fastapi.tiangolo.com/) to put together a simple prediction endpoint.\n",
    "\n",
    "If not installed already in the environment in can be installed with pip as\n",
    "\n",
    "```bash\n",
    "pip install fastapi\n",
    "pip install \"uvicorn[standard]\"\n",
    "```"
   ]
  },
  {
   "cell_type": "code",
   "execution_count": null,
   "metadata": {},
   "outputs": [],
   "source": [
    "%load_ext autoreload\n",
    "%autoreload 2\n",
    "import requests\n",
    "import json\n",
    "from pathlib import Path\n",
    "import pandas as pd\n",
    "import numpy as np\n"
   ]
  },
  {
   "cell_type": "code",
   "execution_count": null,
   "metadata": {},
   "outputs": [],
   "source": [
    "\n",
    "# let us get some example data\n",
    "with open(Path(\"../iow_data/alohomora/Abel_2dcdf140.da7cfe.json\")) as f:\n",
    "    example_data = json.load(f)\n",
    "\n",
    "example_data"
   ]
  },
  {
   "attachments": {},
   "cell_type": "markdown",
   "metadata": {},
   "source": [
    "## Run server\n",
    "\n",
    "We are going to be running a FastAPI server of the API. We can also server the static files of the application also with the same server. Please check the file [`server.py`](server.py).\n",
    "\n",
    "The server can be run with the following command in this folder:\n",
    "\n",
    "```bash\n",
    "uvicorn server:app --reload\n",
    "```\n"
   ]
  },
  {
   "attachments": {},
   "cell_type": "markdown",
   "metadata": {},
   "source": [
    "## Collect endpoint\n",
    "\n",
    "We are going to focuss on predicting a model but to warm up and getting familiar with APIs we can checkout and play with a collect endpoint that more or less does the same than the MQTT process but in a simpler way.\n",
    "\n",
    "Checkout the predict endpoint in [`server.py`](server.py)."
   ]
  },
  {
   "cell_type": "code",
   "execution_count": null,
   "metadata": {},
   "outputs": [],
   "source": [
    "# we can test our endpoint collect by sending the data to it\n",
    "requests.put(json=example_data, url=\"http://localhost:8000/api/collect\")"
   ]
  },
  {
   "attachments": {},
   "cell_type": "markdown",
   "metadata": {},
   "source": [
    "## Predict endpoint\n",
    "\n",
    "The predict endpoint is bit more endpoint, as we have have to reproduce all the transformations steps and evaluations steps in the training."
   ]
  },
  {
   "cell_type": "code",
   "execution_count": null,
   "metadata": {},
   "outputs": [],
   "source": [
    "from schemas import PredictSample\n",
    "from model import read_sample, extract_features, PredictModel"
   ]
  },
  {
   "cell_type": "code",
   "execution_count": null,
   "metadata": {},
   "outputs": [],
   "source": [
    "# we can create a predict example to test our transformations\n",
    "predict_sample = PredictSample(**example_data)\n",
    "predict_sample.dict()"
   ]
  },
  {
   "cell_type": "code",
   "execution_count": null,
   "metadata": {},
   "outputs": [],
   "source": [
    "# we can test first the read_sample function\n",
    "eval_df = read_sample(predict_sample)\n",
    "eval_df"
   ]
  },
  {
   "cell_type": "code",
   "execution_count": null,
   "metadata": {},
   "outputs": [],
   "source": [
    "# then we can test the extract_features function\n",
    "eval_df_extra = extract_features(eval_df)\n",
    "eval_df_extra"
   ]
  },
  {
   "cell_type": "code",
   "execution_count": null,
   "metadata": {},
   "outputs": [],
   "source": [
    "# finally we can test the whole predict function\n",
    "model = PredictModel(\"../optimized_gb_clf.joblib\")\n",
    "\n",
    "model.predict(predict_sample)"
   ]
  },
  {
   "cell_type": "code",
   "execution_count": null,
   "metadata": {},
   "outputs": [],
   "source": [
    "# also the endpoint instead of returning a string returns a json\n",
    "response = requests.post(json=predict_sample.dict(), url=\"http://localhost:8000/api/predict\")\n",
    "response.json()"
   ]
  }
 ],
 "metadata": {
  "kernelspec": {
   "display_name": "datalab_ml_iot_d",
   "language": "python",
   "name": "python3"
  },
  "language_info": {
   "codemirror_mode": {
    "name": "ipython",
    "version": 3
   },
   "file_extension": ".py",
   "mimetype": "text/x-python",
   "name": "python",
   "nbconvert_exporter": "python",
   "pygments_lexer": "ipython3",
   "version": "3.8.15"
  },
  "orig_nbformat": 4
 },
 "nbformat": 4,
 "nbformat_minor": 2
}
